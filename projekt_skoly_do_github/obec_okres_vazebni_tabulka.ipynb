{
 "cells": [
  {
   "cell_type": "code",
   "execution_count": 40,
   "id": "f061b1c0",
   "metadata": {},
   "outputs": [
    {
     "name": "stdout",
     "output_type": "stream",
     "text": [
      "     KODJAZ          TYPVAZ AKRCIS1  KODCIS1  CHODNOTA1  \\\n",
      "0        CS  Editační vazba   CISOB       43     500011   \n",
      "1        CS  Editační vazba   CISOB       43     500020   \n",
      "2        CS  Editační vazba   CISOB       43     500046   \n",
      "3        CS  Editační vazba   CISOB       43     500062   \n",
      "4        CS  Editační vazba   CISOB       43     500071   \n",
      "...     ...             ...     ...      ...        ...   \n",
      "6253     CS  Editační vazba   CISOB       43     599930   \n",
      "6254     CS  Editační vazba   CISOB       43     599948   \n",
      "6255     CS  Editační vazba   CISOB       43     599956   \n",
      "6256     CS  Editační vazba   CISOB       43     599964   \n",
      "6257     CS  Editační vazba   CISOB       43     599999   \n",
      "\n",
      "                         TEXT1     AKRCIS2  KODCIS2  CHODNOTA2       TEXT2  \n",
      "0     Želechovice nad Dřevnicí  OKRES_NUTS      101      40851        Zlín  \n",
      "1            Petrov nad Desnou  OKRES_NUTS      101      40819     Šumperk  \n",
      "2                      Libhošť  OKRES_NUTS      101      40894  Nový Jičín  \n",
      "3                       Krhová  OKRES_NUTS      101      40843      Vsetín  \n",
      "4                      Poličná  OKRES_NUTS      101      40843      Vsetín  \n",
      "...                        ...         ...      ...        ...         ...  \n",
      "6253         Suchdol nad Odrou  OKRES_NUTS      101      40894  Nový Jičín  \n",
      "6254                 Štramberk  OKRES_NUTS      101      40894  Nový Jičín  \n",
      "6255                     Tichá  OKRES_NUTS      101      40894  Nový Jičín  \n",
      "6256                     Tísek  OKRES_NUTS      101      40894  Nový Jičín  \n",
      "6257               Trojanovice  OKRES_NUTS      101      40894  Nový Jičín  \n",
      "\n",
      "[6258 rows x 10 columns]\n"
     ]
    }
   ],
   "source": [
    "import pandas as pd\n",
    "import csv\n",
    "df = pd.read_csv('VAZ0043_0101_CS.csv')\n",
    "\n",
    "# Show dataframe\n",
    "print(df)\n",
    "    \n"
   ]
  },
  {
   "cell_type": "code",
   "execution_count": 41,
   "id": "8156aaab",
   "metadata": {},
   "outputs": [
    {
     "name": "stdout",
     "output_type": "stream",
     "text": [
      "                         TEXT1       TEXT2\n",
      "0     Želechovice nad Dřevnicí        Zlín\n",
      "1            Petrov nad Desnou     Šumperk\n",
      "2                      Libhošť  Nový Jičín\n",
      "3                       Krhová      Vsetín\n",
      "4                      Poličná      Vsetín\n",
      "...                        ...         ...\n",
      "6253         Suchdol nad Odrou  Nový Jičín\n",
      "6254                 Štramberk  Nový Jičín\n",
      "6255                     Tichá  Nový Jičín\n",
      "6256                     Tísek  Nový Jičín\n",
      "6257               Trojanovice  Nový Jičín\n",
      "\n",
      "[6258 rows x 2 columns]\n"
     ]
    }
   ],
   "source": [
    "vazba_obec_okres = df[[\"TEXT1\", \"TEXT2\"]]\n",
    "print(vazba_obec_okres)\n"
   ]
  },
  {
   "cell_type": "code",
   "execution_count": 45,
   "id": "22466c05",
   "metadata": {},
   "outputs": [
    {
     "name": "stdout",
     "output_type": "stream",
     "text": [
      "                          obec       okres\n",
      "0     Želechovice nad Dřevnicí        Zlín\n",
      "1            Petrov nad Desnou     Šumperk\n",
      "2                      Libhošť  Nový Jičín\n",
      "3                       Krhová      Vsetín\n",
      "4                      Poličná      Vsetín\n",
      "...                        ...         ...\n",
      "6253         Suchdol nad Odrou  Nový Jičín\n",
      "6254                 Štramberk  Nový Jičín\n",
      "6255                     Tichá  Nový Jičín\n",
      "6256                     Tísek  Nový Jičín\n",
      "6257               Trojanovice  Nový Jičín\n",
      "\n",
      "[6258 rows x 2 columns]\n"
     ]
    },
    {
     "name": "stderr",
     "output_type": "stream",
     "text": [
      "C:\\Users\\Vasku\\AppData\\Local\\Temp\\ipykernel_8012\\1303861463.py:1: SettingWithCopyWarning: \n",
      "A value is trying to be set on a copy of a slice from a DataFrame\n",
      "\n",
      "See the caveats in the documentation: https://pandas.pydata.org/pandas-docs/stable/user_guide/indexing.html#returning-a-view-versus-a-copy\n",
      "  vazba_obec_okres.rename(columns = {'TEXT1':'obec', 'TEXT2':'okres'}, inplace=True)\n"
     ]
    }
   ],
   "source": [
    "vazba_obec_okres.rename(columns = {'TEXT1':'obec', 'TEXT2':'okres'}, inplace=True)\n",
    "print(vazba_obec_okres)"
   ]
  },
  {
   "cell_type": "code",
   "execution_count": 46,
   "id": "bd417b1c",
   "metadata": {},
   "outputs": [
    {
     "name": "stdout",
     "output_type": "stream",
     "text": [
      "                          obec       okres\n",
      "0     Želechovice nad Dřevnicí        Zlín\n",
      "1            Petrov nad Desnou     Šumperk\n",
      "2                      Libhošť  Nový Jičín\n",
      "3                       Krhová      Vsetín\n",
      "4                      Poličná      Vsetín\n",
      "...                        ...         ...\n",
      "6253         Suchdol nad Odrou  Nový Jičín\n",
      "6254                 Štramberk  Nový Jičín\n",
      "6255                     Tichá  Nový Jičín\n",
      "6256                     Tísek  Nový Jičín\n",
      "6257               Trojanovice  Nový Jičín\n",
      "\n",
      "[6258 rows x 2 columns]\n"
     ]
    }
   ],
   "source": [
    "print(vazba_obec_okres)\n"
   ]
  },
  {
   "cell_type": "code",
   "execution_count": 48,
   "id": "f408af6c",
   "metadata": {},
   "outputs": [],
   "source": [
    "df.to_csv('vazba_obec_okres.csv')\n"
   ]
  },
  {
   "cell_type": "code",
   "execution_count": null,
   "id": "01669ccf",
   "metadata": {},
   "outputs": [],
   "source": []
  }
 ],
 "metadata": {
  "kernelspec": {
   "display_name": "Python 3 (ipykernel)",
   "language": "python",
   "name": "python3"
  },
  "language_info": {
   "codemirror_mode": {
    "name": "ipython",
    "version": 3
   },
   "file_extension": ".py",
   "mimetype": "text/x-python",
   "name": "python",
   "nbconvert_exporter": "python",
   "pygments_lexer": "ipython3",
   "version": "3.10.2"
  }
 },
 "nbformat": 4,
 "nbformat_minor": 5
}
