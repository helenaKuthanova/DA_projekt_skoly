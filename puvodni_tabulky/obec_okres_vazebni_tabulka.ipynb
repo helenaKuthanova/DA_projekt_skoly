{
 "cells": [
  {
   "cell_type": "code",
   "execution_count": 1,
   "id": "df87a776",
   "metadata": {},
   "outputs": [
    {
     "name": "stdout",
     "output_type": "stream",
     "text": [
      "          NAZCOBCE    PSC     NAZPOST  KODOKRESU          NAZOKRESU  \\\n",
      "0         Abertamy  36235    Abertamy       3403       Karlovy Vary   \n",
      "1           Adamov  54232       Úpice       3610            Trutnov   \n",
      "2           Adamov  67904    Adamov 1       3701            Blansko   \n",
      "3           Adamov  28601      Čáslav       3205         Kutná Hora   \n",
      "4           Adamov  37371    Rudolfov       3301   České Budějovice   \n",
      "...            ...    ...         ...        ...                ...   \n",
      "16213   Zvoleněves  27325  Zvoleněves       3203             Kladno   \n",
      "16214  Zvolenovice  58856        Telč       3707            Jihlava   \n",
      "16215    Zvonovice  68201    Vyškov 1       3712             Vyškov   \n",
      "16216      Zvotoky  38716    Volenice       3307         Strakonice   \n",
      "16217        Zvůle  37853    Strmilov       3303  Jindřichův Hradec   \n",
      "\n",
      "                   NAZOBCE  \n",
      "0                 Abertamy  \n",
      "1                  Trutnov  \n",
      "2                   Adamov  \n",
      "3                   Adamov  \n",
      "4                   Adamov  \n",
      "...                    ...  \n",
      "16213           Zvoleněves  \n",
      "16214          Zvolenovice  \n",
      "16215  Rostěnice-Zvonovice  \n",
      "16216              Zvotoky  \n",
      "16217               Kunžak  \n",
      "\n",
      "[16218 rows x 6 columns]\n"
     ]
    }
   ],
   "source": [
    "import pandas\n",
    "import csv\n",
    "df = pandas.read_csv('zv_pcobc.csv', sep = ';')\n",
    "\n",
    "# Show dataframe\n",
    "print(df)\n",
    "    \n"
   ]
  },
  {
   "cell_type": "code",
   "execution_count": 2,
   "id": "60392e95",
   "metadata": {},
   "outputs": [],
   "source": [
    "#měním PSČ na string o správném formátu, vybírám a měním názvy sloupců\n",
    "PSC_string = []\n",
    "for item in df['PSC']:\n",
    "    string_psc = str(item)\n",
    "    string_psc = string_psc[:3] + \" \" + string_psc[3:]\n",
    "    PSC_string.append(string_psc)\n",
    "df['PSC_STRING'] = PSC_string\n",
    "df.rename(columns = {'NAZOBCE':'obec', 'NAZOKRESU':'okres', 'PSC':'stare_psc', 'PSC_STRING':'PSC'}, inplace=True)\n",
    "\n"
   ]
  },
  {
   "cell_type": "code",
   "execution_count": 3,
   "id": "4a65041c",
   "metadata": {},
   "outputs": [
    {
     "name": "stdout",
     "output_type": "stream",
     "text": [
      "          NAZCOBCE  stare_psc     NAZPOST  KODOKRESU              okres  \\\n",
      "0         Abertamy      36235    Abertamy       3403       Karlovy Vary   \n",
      "1           Adamov      54232       Úpice       3610            Trutnov   \n",
      "2           Adamov      67904    Adamov 1       3701            Blansko   \n",
      "3           Adamov      28601      Čáslav       3205         Kutná Hora   \n",
      "4           Adamov      37371    Rudolfov       3301   České Budějovice   \n",
      "...            ...        ...         ...        ...                ...   \n",
      "16213   Zvoleněves      27325  Zvoleněves       3203             Kladno   \n",
      "16214  Zvolenovice      58856        Telč       3707            Jihlava   \n",
      "16215    Zvonovice      68201    Vyškov 1       3712             Vyškov   \n",
      "16216      Zvotoky      38716    Volenice       3307         Strakonice   \n",
      "16217        Zvůle      37853    Strmilov       3303  Jindřichův Hradec   \n",
      "\n",
      "                      obec     PSC  \n",
      "0                 Abertamy  362 35  \n",
      "1                  Trutnov  542 32  \n",
      "2                   Adamov  679 04  \n",
      "3                   Adamov  286 01  \n",
      "4                   Adamov  373 71  \n",
      "...                    ...     ...  \n",
      "16213           Zvoleněves  273 25  \n",
      "16214          Zvolenovice  588 56  \n",
      "16215  Rostěnice-Zvonovice  682 01  \n",
      "16216              Zvotoky  387 16  \n",
      "16217               Kunžak  378 53  \n",
      "\n",
      "[16218 rows x 7 columns]\n"
     ]
    }
   ],
   "source": [
    "print(df)\n",
    "\n"
   ]
  },
  {
   "cell_type": "code",
   "execution_count": 4,
   "id": "20202904",
   "metadata": {
    "scrolled": true
   },
   "outputs": [
    {
     "data": {
      "text/html": [
       "<div>\n",
       "<style scoped>\n",
       "    .dataframe tbody tr th:only-of-type {\n",
       "        vertical-align: middle;\n",
       "    }\n",
       "\n",
       "    .dataframe tbody tr th {\n",
       "        vertical-align: top;\n",
       "    }\n",
       "\n",
       "    .dataframe thead th {\n",
       "        text-align: right;\n",
       "    }\n",
       "</style>\n",
       "<table border=\"1\" class=\"dataframe\">\n",
       "  <thead>\n",
       "    <tr style=\"text-align: right;\">\n",
       "      <th></th>\n",
       "      <th>PSC</th>\n",
       "      <th>obec</th>\n",
       "      <th>okres</th>\n",
       "    </tr>\n",
       "  </thead>\n",
       "  <tbody>\n",
       "    <tr>\n",
       "      <th>0</th>\n",
       "      <td>362 35</td>\n",
       "      <td>Abertamy</td>\n",
       "      <td>Karlovy Vary</td>\n",
       "    </tr>\n",
       "    <tr>\n",
       "      <th>1</th>\n",
       "      <td>542 32</td>\n",
       "      <td>Trutnov</td>\n",
       "      <td>Trutnov</td>\n",
       "    </tr>\n",
       "    <tr>\n",
       "      <th>2</th>\n",
       "      <td>679 04</td>\n",
       "      <td>Adamov</td>\n",
       "      <td>Blansko</td>\n",
       "    </tr>\n",
       "    <tr>\n",
       "      <th>3</th>\n",
       "      <td>286 01</td>\n",
       "      <td>Adamov</td>\n",
       "      <td>Kutná Hora</td>\n",
       "    </tr>\n",
       "    <tr>\n",
       "      <th>4</th>\n",
       "      <td>373 71</td>\n",
       "      <td>Adamov</td>\n",
       "      <td>České Budějovice</td>\n",
       "    </tr>\n",
       "    <tr>\n",
       "      <th>...</th>\n",
       "      <td>...</td>\n",
       "      <td>...</td>\n",
       "      <td>...</td>\n",
       "    </tr>\n",
       "    <tr>\n",
       "      <th>16209</th>\n",
       "      <td>789 01</td>\n",
       "      <td>Zvole</td>\n",
       "      <td>Šumperk</td>\n",
       "    </tr>\n",
       "    <tr>\n",
       "      <th>16212</th>\n",
       "      <td>592 56</td>\n",
       "      <td>Zvole</td>\n",
       "      <td>Žďár nad Sázavou</td>\n",
       "    </tr>\n",
       "    <tr>\n",
       "      <th>16213</th>\n",
       "      <td>273 25</td>\n",
       "      <td>Zvoleněves</td>\n",
       "      <td>Kladno</td>\n",
       "    </tr>\n",
       "    <tr>\n",
       "      <th>16214</th>\n",
       "      <td>588 56</td>\n",
       "      <td>Zvolenovice</td>\n",
       "      <td>Jihlava</td>\n",
       "    </tr>\n",
       "    <tr>\n",
       "      <th>16216</th>\n",
       "      <td>387 16</td>\n",
       "      <td>Zvotoky</td>\n",
       "      <td>Strakonice</td>\n",
       "    </tr>\n",
       "  </tbody>\n",
       "</table>\n",
       "<p>7885 rows × 3 columns</p>\n",
       "</div>"
      ],
      "text/plain": [
       "          PSC         obec             okres\n",
       "0      362 35     Abertamy      Karlovy Vary\n",
       "1      542 32      Trutnov           Trutnov\n",
       "2      679 04       Adamov           Blansko\n",
       "3      286 01       Adamov        Kutná Hora\n",
       "4      373 71       Adamov  České Budějovice\n",
       "...       ...          ...               ...\n",
       "16209  789 01        Zvole           Šumperk\n",
       "16212  592 56        Zvole  Žďár nad Sázavou\n",
       "16213  273 25   Zvoleněves            Kladno\n",
       "16214  588 56  Zvolenovice           Jihlava\n",
       "16216  387 16      Zvotoky        Strakonice\n",
       "\n",
       "[7885 rows x 3 columns]"
      ]
     },
     "execution_count": 4,
     "metadata": {},
     "output_type": "execute_result"
    }
   ],
   "source": [
    "# vytvářím tabulku z vybraných sloupců, mažu duplicity\n",
    "vazba_obec_psc_okres = df[[\"PSC\", \"obec\", \"okres\"]]\n",
    "vazba_obec_psc_okres = vazba_obec_psc_okres.drop_duplicates()\n",
    "vazba_obec_psc_okres\n"
   ]
  },
  {
   "cell_type": "code",
   "execution_count": 5,
   "id": "4a8513ac",
   "metadata": {},
   "outputs": [],
   "source": [
    "#ukládám do csv\n",
    "vazba_obec_psc_okres.to_csv('vazba_obec_psc_okres.csv', index = None)"
   ]
  }
 ],
 "metadata": {
  "kernelspec": {
   "display_name": "Python 3 (ipykernel)",
   "language": "python",
   "name": "python3"
  },
  "language_info": {
   "codemirror_mode": {
    "name": "ipython",
    "version": 3
   },
   "file_extension": ".py",
   "mimetype": "text/x-python",
   "name": "python",
   "nbconvert_exporter": "python",
   "pygments_lexer": "ipython3",
   "version": "3.10.2"
  }
 },
 "nbformat": 4,
 "nbformat_minor": 5
}
