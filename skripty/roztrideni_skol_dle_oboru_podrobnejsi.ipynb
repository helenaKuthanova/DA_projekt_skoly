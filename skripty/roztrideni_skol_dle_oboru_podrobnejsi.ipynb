{
 "cells": [
  {
   "cell_type": "code",
   "execution_count": 31,
   "id": "e073cd80",
   "metadata": {},
   "outputs": [],
   "source": [
    "import pandas as pd\n",
    "file = 'skoly_vsechny_kraje_praha_gps_souradnice.csv'\n",
    "final = 'skoly_vsechny_kraje_praha_gps_souradnice_kategorie_podrobnejsi.csv'"
   ]
  },
  {
   "cell_type": "code",
   "execution_count": 32,
   "id": "c9e027d8",
   "metadata": {},
   "outputs": [],
   "source": [
    "df = pd.read_csv(file, delimiter=';', encoding='utf-8')"
   ]
  },
  {
   "cell_type": "markdown",
   "id": "b807bdb5",
   "metadata": {},
   "source": [
    "### Procházení dataframu ve for loopu\n",
    "* for i in df.index:\n",
    "**     adresa = df['adresa1'][i]\n",
    "**     list_ulice = re.split(pattern1, adresa)\n",
    "**     nazev_ulice = list_ulice[0]\n",
    "**     list_cislo = re.split(pattern2, adresa)\n",
    "**     cislo_popisne = list_cislo[-1]\n",
    "**     df.loc[i, 'nazev_ulice'] = nazev_ulice\n",
    "**     df.loc[i, 'cislo_popisne'] = cislo_popisne"
   ]
  },
  {
   "cell_type": "code",
   "execution_count": 33,
   "id": "e3315cc7",
   "metadata": {},
   "outputs": [
    {
     "data": {
      "text/plain": [
       "Index(['Unnamed: 0', 'Column1', 'id', 'nazev', 'typ', 'adresa1', 'adresa2',\n",
       "       'adresa3', 'PSC', 'obec', 'kraj', 'obor_kod', 'obor_nazev',\n",
       "       'obor_forma', 'obor_delka', 'obor_kapacita', 'okres', 'kod_okresu_a',\n",
       "       'kod_okresu_b', 'nazev_ulice', 'cislo_popisne', 'Zeměpisná šířka',\n",
       "       'Zeměpisná délka'],\n",
       "      dtype='object')"
      ]
     },
     "execution_count": 33,
     "metadata": {},
     "output_type": "execute_result"
    }
   ],
   "source": [
    "df.columns"
   ]
  },
  {
   "cell_type": "markdown",
   "id": "d72d042e",
   "metadata": {},
   "source": [
    "# Kategorie oborů\n",
    "\n",
    "#### K - gymnázia\n",
    "#### 1820M01 - informační technologie\n",
    "#### 6341M02, 6341M01, 6341M004, 6843M01, 6843M001 - obchodní akademie a veřejnosprávní činnost\n",
    "#### zbytek M - odborné vzdělání (M = úplné střední odborné vzdělání s maturitou (bez vyučení))\n",
    "#### L - úplné střední odborné vzdělání s odborným výcvikem a maturitou"
   ]
  },
  {
   "cell_type": "code",
   "execution_count": 39,
   "id": "9434d1d8",
   "metadata": {},
   "outputs": [],
   "source": [
    "for i in df.index:\n",
    "    obor = df['obor_kod'][i]\n",
    "    if 'K' in obor:\n",
    "        df.loc[i, 'kategorie'] = 'gymnázium'\n",
    "    elif '1820M01' in obor:\n",
    "        df.loc[i, 'kategorie'] = 'informační technologie'\n",
    "    elif '6341M' in obor:\n",
    "        df.loc[i, 'kategorie'] = 'obchodní akademie a veřejnosprávní činnost'\n",
    "    elif ('6843M' in obor):\n",
    "        df.loc[i, 'kategorie'] = 'obchodní akademie a veřejnosprávní činnost'\n",
    "    elif 'L' in obor:\n",
    "        df.loc[i, 'kategorie'] = 'odborné vzdělání s odborným výcvikem a maturitou'\n",
    "    else:\n",
    "        df.loc[i, 'kategorie'] = 'odborné vzdělání s maturitou'"
   ]
  },
  {
   "cell_type": "code",
   "execution_count": 40,
   "id": "db9797b0",
   "metadata": {},
   "outputs": [],
   "source": [
    "df = df.drop(columns=['Unnamed: 0', 'Column1'])"
   ]
  },
  {
   "cell_type": "code",
   "execution_count": 41,
   "id": "fc0eb3d8",
   "metadata": {},
   "outputs": [
    {
     "data": {
      "text/plain": [
       "obor_kod  obor_nazev                                  \n",
       "7941K41   Gymnázium                                       215\n",
       "1820M01   Informační technologie                          129\n",
       "6341M02   Obchodní akademie                                56\n",
       "6341M01   Ekonomika a podnikání                            43\n",
       "7941K401  Gymnázium - všeobecné                            37\n",
       "2341M01   Strojírenství                                    29\n",
       "1601M01   Ekologie a životní prostředí                     26\n",
       "5341M01   Zdravotnický asistent                            26\n",
       "2345L01   Mechanik seřizovač                               17\n",
       "7531M01   Předškolní a mimoškolní pedagogika               13\n",
       "6341M004  Obchodní akademie                                12\n",
       "6542M01   Hotelnictví                                      10\n",
       "6843M01   Veřejnosprávní činnost                            9\n",
       "3647M01   Stavebnictví                                      9\n",
       "7842M06   Kombinované lyceum                                9\n",
       "4141M01   Agropodnikání                                     9\n",
       "2844M01   Aplikovaná chemie                                 8\n",
       "8241M01   Užitá malba                                       7\n",
       "2341M001  Strojírenství                                     7\n",
       "3646M01   Geodézie a katastr nemovitostí                    7\n",
       "2345M01   Dopravní prostředky                               6\n",
       "2344L01   Mechanik strojů a zařízení                        6\n",
       "1602M01   Průmyslová ekologie                               6\n",
       "8241M05   Grafický design                                   6\n",
       "6542M02   Cestovní ruch                                     5\n",
       "4341M01   Veterinářství                                     4\n",
       "7842M03   Pedagogické lyceum                                3\n",
       "3741M01   Provoz a ekonomika dopravy                        3\n",
       "4104M01   Rostlinolékařství                                 3\n",
       "4146M01   Lesnictví                                         3\n",
       "3441M01   Polygrafie                                        3\n",
       "3342M01   Nábytkářská a dřevařská výroba                    3\n",
       "8241M007  Propagační výtvarnictví - propagační grafika      3\n",
       "6842M01   Bezpečnostně právní činnost                       3\n",
       "5341M007  Zdravotnický asistent                             2\n",
       "7541M01   Sociální činnost                                  2\n",
       "4143L01   Chovatel cizokrajných zvířat                      2\n",
       "6541L01   Gastronomie                                       2\n",
       "6643M01   Knihkupecké a nakladatelské činnosti              2\n",
       "1601M002  Ochrana přírody a prostředí                       2\n",
       "3645M01   Technická zařízení budov                          2\n",
       "2641L01   Mechanik elektrotechnik                           2\n",
       "3143M001  Oděvnictví                                        2\n",
       "1601M004  Ekologie a ochrana krajiny                        2\n",
       "8241M17   Multimediální tvorba                              2\n",
       "8241M11   Design interiéru                                  2\n",
       "8241M07   Modelářství a návrhářství oděvů                   2\n",
       "6843M001  Veřejnosprávní činnost                            2\n",
       "3143M01   Oděvnictví                                        2\n",
       "3742M01   Logistické a finanční služby                      2\n",
       "7941K408  Gymnázium - živé jazyky                           1\n",
       "7942K41   Gymnázium se sportovní přípravou                  1\n",
       "7842M004  Waldorfské lyceum                                 1\n",
       "8241M04   Průmyslový design                                 1\n",
       "7531M005  Předškolní a mimoškolní pedagogika                1\n",
       "8241M06   Výtvarné zpracování kovů a drahých kamenů         1\n",
       "7941K407  Gymnázium - esteticko výchovné předměty           1\n",
       "7241M01   Informační služby                                 1\n",
       "7842M02   Ekonomické lyceum                                 1\n",
       "6941L01   Kosmetické služby                                 1\n",
       "7842M003  Pedagogické lyceum                                1\n",
       "7842M01   Technické lyceum                                  1\n",
       "1601M001  Ochrana a tvorba životního prostředí              1\n",
       "6841M006  Právní administrativa                             1\n",
       "3141M004  Textilní výroba a podnikatelství                  1\n",
       "2142M01   Geotechnika                                       1\n",
       "2143L01   Hutník operátor                                   1\n",
       "2344L001  Mechanik strojů a zařízení                        1\n",
       "2345L009  Letecký mechanik                                  1\n",
       "2345L02   Letecký mechanik                                  1\n",
       "2345M004  Silniční doprava                                  1\n",
       "2641M01   Elektrotechnika                                   1\n",
       "2645M01   Telekomunikace                                    1\n",
       "2842L01   Chemik operátor                                   1\n",
       "2942M01   Analýza potravin                                  1\n",
       "3452L01   Tiskař na polygrafických strojích                 1\n",
       "6542M010  Služby a cestovní ruch                            1\n",
       "3456L01   Fotograf                                          1\n",
       "3641M001  Pozemní stavitelství                              1\n",
       "3908M001  Požární ochrana                                   1\n",
       "4142M01   Vinohradnictví                                    1\n",
       "4143M01   Rybářství                                         1\n",
       "4143M02   Chovatelství                                      1\n",
       "4144M01   Zahradnictví                                      1\n",
       "5341M03   Praktická sestra                                  1\n",
       "5344M03   Asistent zubního technika                         1\n",
       "6541L006  Kuchař                                            1\n",
       "8248L01   Starožitník                                       1\n",
       "dtype: int64"
      ]
     },
     "execution_count": 41,
     "metadata": {},
     "output_type": "execute_result"
    }
   ],
   "source": [
    "df[['obor_kod', 'obor_nazev']].value_counts()"
   ]
  },
  {
   "cell_type": "code",
   "execution_count": 43,
   "id": "866a57ce",
   "metadata": {},
   "outputs": [
    {
     "data": {
      "text/plain": [
       "kategorie                                       \n",
       "odborné vzdělání s maturitou                        260\n",
       "gymnázium                                           255\n",
       "informační technologie                              129\n",
       "obchodní akademie a veřejnosprávní činnost          122\n",
       "odborné vzdělání s odborným výcvikem a maturitou     39\n",
       "dtype: int64"
      ]
     },
     "execution_count": 43,
     "metadata": {},
     "output_type": "execute_result"
    }
   ],
   "source": [
    "df[['kategorie']].value_counts()"
   ]
  },
  {
   "cell_type": "code",
   "execution_count": 44,
   "id": "9b4823e0",
   "metadata": {},
   "outputs": [],
   "source": [
    "pd.set_option('display.max_rows', None)"
   ]
  },
  {
   "cell_type": "code",
   "execution_count": 45,
   "id": "f0e90cee",
   "metadata": {},
   "outputs": [
    {
     "data": {
      "text/plain": [
       "array(['7941K401', '6341M004', '7941K41', '1820M01', '4104M01', '3646M01',\n",
       "       '2341M001', '8241M01', '1601M004', '8241M007', '6341M01',\n",
       "       '1601M001', '5341M01', '5341M007', '3742M01', '4146M01',\n",
       "       '7531M005', '3647M01', '3342M01', '4141M01', '2844M01', '6541L006',\n",
       "       '7842M06', '6542M01', '2641L01', '7531M01', '2345L01', '6341M02',\n",
       "       '6643M01', '4341M01', '3441M01', '2341M01', '1601M01', '2842L01',\n",
       "       '2345M01', '6541L01', '1602M01', '3741M01', '4143M02', '8241M05',\n",
       "       '3645M01', '4143M01', '2142M01', '6542M02', '6843M001', '6843M01',\n",
       "       '8241M07', '3141M004', '8241M11', '1601M002', '8241M06',\n",
       "       '7842M004', '2344L01', '2942M01', '3452L01', '7941K407',\n",
       "       '6841M006', '4144M01', '3456L01', '8241M04', '7842M003',\n",
       "       '7941K408', '3908M001', '2143L01', '3143M001', '6542M010',\n",
       "       '2344L001', '2641M01', '2345M004', '7942K41', '7842M01', '5341M03',\n",
       "       '6842M01', '4143L01', '3143M01', '2645M01', '7842M02', '7541M01',\n",
       "       '2345L02', '8248L01', '7241M01', '5344M03', '7842M03', '3641M001',\n",
       "       '4142M01', '8241M17', '6941L01', '2345L009'], dtype=object)"
      ]
     },
     "execution_count": 45,
     "metadata": {},
     "output_type": "execute_result"
    }
   ],
   "source": [
    "df['obor_kod'].unique()"
   ]
  },
  {
   "cell_type": "code",
   "execution_count": 46,
   "id": "ec769746",
   "metadata": {},
   "outputs": [],
   "source": [
    "# df.to_csv(final, encoding='utf-8', sep=';')"
   ]
  }
 ],
 "metadata": {
  "kernelspec": {
   "display_name": "Python 3 (ipykernel)",
   "language": "python",
   "name": "python3"
  },
  "language_info": {
   "codemirror_mode": {
    "name": "ipython",
    "version": 3
   },
   "file_extension": ".py",
   "mimetype": "text/x-python",
   "name": "python",
   "nbconvert_exporter": "python",
   "pygments_lexer": "ipython3",
   "version": "3.9.10"
  }
 },
 "nbformat": 4,
 "nbformat_minor": 5
}
