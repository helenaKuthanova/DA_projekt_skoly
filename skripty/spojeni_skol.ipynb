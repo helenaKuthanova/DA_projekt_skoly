{
 "cells": [
  {
   "cell_type": "code",
   "execution_count": 42,
   "id": "1ce7719e",
   "metadata": {},
   "outputs": [],
   "source": [
    "import pandas as pd"
   ]
  },
  {
   "cell_type": "code",
   "execution_count": 43,
   "id": "ba0a046b",
   "metadata": {},
   "outputs": [],
   "source": [
    "skoly = ['skoly_Jihomoravsky_final.csv', 'skoly_Karlovarsky_final.csv', 'skoly_Kralovehradecky_final.csv', 'skoly_Liberecky_final.csv', 'skoly_Moravskoslezsky_final.csv', 'skoly_Olomoucky_final.csv', 'skoly_Pardubicky_final.csv', 'skoly_Plzensky_final.csv', 'skoly_Praha_final.csv', 'skoly_Stredocesky_final.csv', 'skoly_Ustecky_final.csv', 'skoly_Vysocina_final.csv', 'skoly_Zlinsky_final.csv']\n",
    "skoly_vsechny_kraje = pd.read_csv('skoly_Jihocesky_final.csv', encoding='utf-8')\n",
    "for skola in skoly:\n",
    "    kraj = pd.read_csv(skola, encoding='utf-8')\n",
    "    skoly_vsechny_kraje = pd.concat([final, kraj])"
   ]
  },
  {
   "cell_type": "code",
   "execution_count": 44,
   "id": "0377d448",
   "metadata": {},
   "outputs": [
    {
     "data": {
      "text/plain": [
       "array(['Jihočeský kraj', 'Jihomoravský kraj', 'Karlovarský kraj',\n",
       "       'Královéhradecký kraj', 'Liberecký kraj', 'Moravskoslezský kraj',\n",
       "       'Olomoucký kraj', 'Pardubický kraj', 'Plzeňský kraj',\n",
       "       'Hlavní město Praha', 'Středočeský kraj', 'Ústecký kraj',\n",
       "       'Kraj Vysočina', 'Zlínský kraj'], dtype=object)"
      ]
     },
     "execution_count": 44,
     "metadata": {},
     "output_type": "execute_result"
    }
   ],
   "source": [
    "skoly_vsechny_kraje['kraj'].unique()"
   ]
  },
  {
   "cell_type": "code",
   "execution_count": 55,
   "id": "41a5361f",
   "metadata": {},
   "outputs": [
    {
     "data": {
      "text/plain": [
       "14"
      ]
     },
     "execution_count": 55,
     "metadata": {},
     "output_type": "execute_result"
    }
   ],
   "source": [
    "len(skoly_vsechny_kraje['kraj'].unique())"
   ]
  },
  {
   "cell_type": "code",
   "execution_count": 47,
   "id": "c8122e35",
   "metadata": {},
   "outputs": [],
   "source": [
    "skoly_vsechny_kraje['obor_kapacita'].mask(skoly_vsechny_kraje['obor_kapacita'] == 'neuvádí se', '', inplace=True)"
   ]
  },
  {
   "cell_type": "code",
   "execution_count": 49,
   "id": "e293a98f",
   "metadata": {},
   "outputs": [
    {
     "data": {
      "text/plain": [
       "array([297, 255, 30, 85, 480, 45, 180, 150, 110, 100, 132, 60, 90, 36,\n",
       "       240, 75, 130, 48, 174, 128, 260, 120, 160, 290, 125, 360, 28, 136,\n",
       "       96, 384, 256, 264, 50, 105, 190, 25, 300, 24, 220, 340, 20, 15, 12,\n",
       "       14, 32, 40, 10, 72, 126, 406, 375, 512, 630, 420, 920, 448, 94, 52,\n",
       "       124, 140, 590, 250, 500, 196, 272, 230, 390, 165, 600, 80, 370,\n",
       "       408, 66, 225, 200, 102, 42, 612, 640, 308, 64, 248, 204, 280, 7, 8,\n",
       "       18, 70, 135, 123, 320, 440, 210, 380, 305, 35, 176, 376, 170, 138,\n",
       "       89, 270, 621, 22, 21, 51, 145, 275, 116, 528, 400, 540, 131, 465,\n",
       "       191, 396, 134, 510, 840, 398, 292, 76, 68, 245, 235, 0, 254, 372,\n",
       "       705, 232, 192, 246, 450, 155, 330, 108, '330', '260', '200', '272',\n",
       "       '120', '132', '320', '485', '240', '220', '400', '300', '170',\n",
       "       '130', '450', '125', '124', '230', '80', '225', '165', '128',\n",
       "       '136', '', '480', 356, 358, 544, 460, '250', '310', '180', '540',\n",
       "       '70', '420', '364', '435', '640', '800', '650', '816', '145',\n",
       "       '252', '528', '88', '140', '510', '720', '350', '402', '110',\n",
       "       '290', '90', '365', '520', '600', '370', '670', '390', '490',\n",
       "       '208', '410', '570', '440', '215', '288', '40', '185', '135',\n",
       "       '150', '256', '270', '550', '50', '34', '580', '360', '84', '100',\n",
       "       '160', '312', '30', '138', '97', 363, 382, 410, 485, 520, 285, 122,\n",
       "       242, 62, 84, '265', '395', '92', '118', '56', '335', '327', '355',\n",
       "       '60'], dtype=object)"
      ]
     },
     "execution_count": 49,
     "metadata": {},
     "output_type": "execute_result"
    }
   ],
   "source": [
    "skoly_vsechny_kraje['obor_kapacita'].unique()"
   ]
  },
  {
   "cell_type": "code",
   "execution_count": 51,
   "id": "4e1ad834",
   "metadata": {},
   "outputs": [
    {
     "data": {
      "text/html": [
       "<div>\n",
       "<style scoped>\n",
       "    .dataframe tbody tr th:only-of-type {\n",
       "        vertical-align: middle;\n",
       "    }\n",
       "\n",
       "    .dataframe tbody tr th {\n",
       "        vertical-align: top;\n",
       "    }\n",
       "\n",
       "    .dataframe thead th {\n",
       "        text-align: right;\n",
       "    }\n",
       "</style>\n",
       "<table border=\"1\" class=\"dataframe\">\n",
       "  <thead>\n",
       "    <tr style=\"text-align: right;\">\n",
       "      <th></th>\n",
       "      <th>id</th>\n",
       "      <th>nazev</th>\n",
       "      <th>typ</th>\n",
       "      <th>adresa1</th>\n",
       "      <th>adresa2</th>\n",
       "      <th>adresa3</th>\n",
       "      <th>PSC</th>\n",
       "      <th>obec</th>\n",
       "      <th>kraj</th>\n",
       "      <th>obor_kod</th>\n",
       "      <th>obor_nazev</th>\n",
       "      <th>obor_forma</th>\n",
       "      <th>obor_delka</th>\n",
       "      <th>obor_kapacita</th>\n",
       "      <th>okres</th>\n",
       "    </tr>\n",
       "  </thead>\n",
       "  <tbody>\n",
       "    <tr>\n",
       "      <th>94</th>\n",
       "      <td>200000063</td>\n",
       "      <td>Střední škola</td>\n",
       "      <td>C00</td>\n",
       "      <td>Pionýrů 2069</td>\n",
       "      <td>Místek</td>\n",
       "      <td>738 01 Frýdek-Místek</td>\n",
       "      <td>738 01</td>\n",
       "      <td>Frýdek-Místek</td>\n",
       "      <td>Moravskoslezský kraj</td>\n",
       "      <td>3908M001</td>\n",
       "      <td>Požární ochrana</td>\n",
       "      <td>10</td>\n",
       "      <td>40</td>\n",
       "      <td>0</td>\n",
       "      <td>Frýdek-Místek</td>\n",
       "    </tr>\n",
       "  </tbody>\n",
       "</table>\n",
       "</div>"
      ],
      "text/plain": [
       "           id          nazev  typ       adresa1 adresa2               adresa3  \\\n",
       "94  200000063  Střední škola  C00  Pionýrů 2069  Místek  738 01 Frýdek-Místek   \n",
       "\n",
       "       PSC           obec                  kraj  obor_kod       obor_nazev  \\\n",
       "94  738 01  Frýdek-Místek  Moravskoslezský kraj  3908M001  Požární ochrana   \n",
       "\n",
       "    obor_forma  obor_delka obor_kapacita          okres  \n",
       "94          10          40             0  Frýdek-Místek  "
      ]
     },
     "execution_count": 51,
     "metadata": {},
     "output_type": "execute_result"
    }
   ],
   "source": [
    "skoly_vsechny_kraje[skoly_vsechny_kraje['obor_kapacita'] == 0]"
   ]
  },
  {
   "cell_type": "code",
   "execution_count": 31,
   "id": "4d01e867",
   "metadata": {},
   "outputs": [],
   "source": [
    "pd.set_option('display.max_rows', None)"
   ]
  },
  {
   "cell_type": "code",
   "execution_count": 54,
   "id": "f60d0004",
   "metadata": {},
   "outputs": [],
   "source": [
    "skoly_vsechny_kraje.to_csv('skoly_vsechny_kraje.csv', index=None)"
   ]
  }
 ],
 "metadata": {
  "kernelspec": {
   "display_name": "Python 3 (ipykernel)",
   "language": "python",
   "name": "python3"
  },
  "language_info": {
   "codemirror_mode": {
    "name": "ipython",
    "version": 3
   },
   "file_extension": ".py",
   "mimetype": "text/x-python",
   "name": "python",
   "nbconvert_exporter": "python",
   "pygments_lexer": "ipython3",
   "version": "3.9.10"
  }
 },
 "nbformat": 4,
 "nbformat_minor": 5
}
