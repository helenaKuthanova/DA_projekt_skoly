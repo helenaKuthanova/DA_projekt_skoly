{
 "cells": [
  {
   "cell_type": "code",
   "execution_count": 3,
   "id": "df87a776",
   "metadata": {},
   "outputs": [
    {
     "name": "stdout",
     "output_type": "stream",
     "text": [
      "          NAZCOBCE    PSC     NAZPOST  KODOKRESU          NAZOKRESU  \\\n",
      "0         Abertamy  36235    Abertamy       3403       Karlovy Vary   \n",
      "1           Adamov  54232       Úpice       3610            Trutnov   \n",
      "2           Adamov  67904    Adamov 1       3701            Blansko   \n",
      "3           Adamov  28601      Čáslav       3205         Kutná Hora   \n",
      "4           Adamov  37371    Rudolfov       3301   České Budějovice   \n",
      "...            ...    ...         ...        ...                ...   \n",
      "16213   Zvoleněves  27325  Zvoleněves       3203             Kladno   \n",
      "16214  Zvolenovice  58856        Telč       3707            Jihlava   \n",
      "16215    Zvonovice  68201    Vyškov 1       3712             Vyškov   \n",
      "16216      Zvotoky  38716    Volenice       3307         Strakonice   \n",
      "16217        Zvůle  37853    Strmilov       3303  Jindřichův Hradec   \n",
      "\n",
      "                   NAZOBCE  \n",
      "0                 Abertamy  \n",
      "1                  Trutnov  \n",
      "2                   Adamov  \n",
      "3                   Adamov  \n",
      "4                   Adamov  \n",
      "...                    ...  \n",
      "16213           Zvoleněves  \n",
      "16214          Zvolenovice  \n",
      "16215  Rostěnice-Zvonovice  \n",
      "16216              Zvotoky  \n",
      "16217               Kunžak  \n",
      "\n",
      "[16218 rows x 6 columns]\n"
     ]
    },
    {
     "name": "stderr",
     "output_type": "stream",
     "text": [
      "C:\\Users\\Vasku\\AppData\\Local\\Temp\\ipykernel_18360\\2157965069.py:3: FutureWarning: In a future version of pandas all arguments of read_csv except for the argument 'filepath_or_buffer' will be keyword-only.\n",
      "  df = pd.read_csv('zv_pcobc.csv', ';')\n"
     ]
    }
   ],
   "source": [
    "import pandas as pd\n",
    "import csv\n",
    "df = pd.read_csv('zv_pcobc.csv', ';')\n",
    "\n",
    "# Show dataframe\n",
    "print(df)\n",
    "    \n"
   ]
  },
  {
   "cell_type": "code",
   "execution_count": 4,
   "id": "27b6743a",
   "metadata": {},
   "outputs": [
    {
     "name": "stdout",
     "output_type": "stream",
     "text": [
      "          NAZCOBCE    PSC          NAZOKRESU\n",
      "0         Abertamy  36235       Karlovy Vary\n",
      "1           Adamov  54232            Trutnov\n",
      "2           Adamov  67904            Blansko\n",
      "3           Adamov  28601         Kutná Hora\n",
      "4           Adamov  37371   České Budějovice\n",
      "...            ...    ...                ...\n",
      "16213   Zvoleněves  27325             Kladno\n",
      "16214  Zvolenovice  58856            Jihlava\n",
      "16215    Zvonovice  68201             Vyškov\n",
      "16216      Zvotoky  38716         Strakonice\n",
      "16217        Zvůle  37853  Jindřichův Hradec\n",
      "\n",
      "[16218 rows x 3 columns]\n"
     ]
    }
   ],
   "source": [
    "vazba_obec_psc_okres = df[[\"NAZCOBCE\", \"PSC\", \"NAZOKRESU\"]]\n",
    "print(vazba_obec_psc_okres)\n"
   ]
  },
  {
   "cell_type": "code",
   "execution_count": 6,
   "id": "60392e95",
   "metadata": {},
   "outputs": [
    {
     "name": "stdout",
     "output_type": "stream",
     "text": [
      "              obec    PSC              okres\n",
      "0         Abertamy  36235       Karlovy Vary\n",
      "1           Adamov  54232            Trutnov\n",
      "2           Adamov  67904            Blansko\n",
      "3           Adamov  28601         Kutná Hora\n",
      "4           Adamov  37371   České Budějovice\n",
      "...            ...    ...                ...\n",
      "16213   Zvoleněves  27325             Kladno\n",
      "16214  Zvolenovice  58856            Jihlava\n",
      "16215    Zvonovice  68201             Vyškov\n",
      "16216      Zvotoky  38716         Strakonice\n",
      "16217        Zvůle  37853  Jindřichův Hradec\n",
      "\n",
      "[16218 rows x 3 columns]\n"
     ]
    },
    {
     "name": "stderr",
     "output_type": "stream",
     "text": [
      "C:\\Users\\Vasku\\AppData\\Local\\Temp\\ipykernel_18360\\1921498170.py:1: SettingWithCopyWarning: \n",
      "A value is trying to be set on a copy of a slice from a DataFrame\n",
      "\n",
      "See the caveats in the documentation: https://pandas.pydata.org/pandas-docs/stable/user_guide/indexing.html#returning-a-view-versus-a-copy\n",
      "  vazba_obec_psc_okres.rename(columns = {'NAZCOBCE':'obec', 'NAZOKRESU':'okres'}, inplace=True)\n"
     ]
    }
   ],
   "source": [
    "vazba_obec_psc_okres.rename(columns = {'NAZCOBCE':'obec', 'NAZOKRESU':'okres'}, inplace=True)\n",
    "print(vazba_obec_psc_okres)"
   ]
  },
  {
   "cell_type": "code",
   "execution_count": 7,
   "id": "20202904",
   "metadata": {},
   "outputs": [
    {
     "name": "stdout",
     "output_type": "stream",
     "text": [
      "              obec    PSC              okres\n",
      "0         Abertamy  36235       Karlovy Vary\n",
      "1           Adamov  54232            Trutnov\n",
      "2           Adamov  67904            Blansko\n",
      "3           Adamov  28601         Kutná Hora\n",
      "4           Adamov  37371   České Budějovice\n",
      "...            ...    ...                ...\n",
      "16213   Zvoleněves  27325             Kladno\n",
      "16214  Zvolenovice  58856            Jihlava\n",
      "16215    Zvonovice  68201             Vyškov\n",
      "16216      Zvotoky  38716         Strakonice\n",
      "16217        Zvůle  37853  Jindřichův Hradec\n",
      "\n",
      "[16218 rows x 3 columns]\n"
     ]
    }
   ],
   "source": [
    "print(vazba_obec_psc_okres)\n"
   ]
  },
  {
   "cell_type": "code",
   "execution_count": 8,
   "id": "8b82196f",
   "metadata": {},
   "outputs": [],
   "source": [
    "vazba_obec_psc_okres.to_csv('vazba_obec_psc_okres.csv', index = None)\n"
   ]
  },
  {
   "cell_type": "code",
   "execution_count": null,
   "id": "4a8513ac",
   "metadata": {},
   "outputs": [],
   "source": []
  }
 ],
 "metadata": {
  "kernelspec": {
   "display_name": "Python 3 (ipykernel)",
   "language": "python",
   "name": "python3"
  },
  "language_info": {
   "codemirror_mode": {
    "name": "ipython",
    "version": 3
   },
   "file_extension": ".py",
   "mimetype": "text/x-python",
   "name": "python",
   "nbconvert_exporter": "python",
   "pygments_lexer": "ipython3",
   "version": "3.10.2"
  }
 },
 "nbformat": 4,
 "nbformat_minor": 5
}
